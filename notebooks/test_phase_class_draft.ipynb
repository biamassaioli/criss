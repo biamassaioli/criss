{
 "cells": [
  {
   "cell_type": "markdown",
   "metadata": {},
   "source": [
    "# Test Phase Class Draft"
   ]
  },
  {
   "cell_type": "code",
   "execution_count": 1,
   "metadata": {},
   "outputs": [],
   "source": [
    "from files import Files\n",
    "from study_phase import StudyPhase\n",
    "from test_phase import TestPhase\n",
    "arqs = Files()\n",
    "sp = StudyPhase(arqs)\n",
    "tp = TestPhase(arqs)\n",
    "from datetime import datetime"
   ]
  },
  {
   "cell_type": "code",
   "execution_count": 2,
   "metadata": {},
   "outputs": [],
   "source": [
    "from log import Log"
   ]
  },
  {
   "cell_type": "code",
   "execution_count": 3,
   "metadata": {},
   "outputs": [],
   "source": [
    "logFile = Log(arqs)"
   ]
  },
  {
   "cell_type": "code",
   "execution_count": 4,
   "metadata": {},
   "outputs": [
    {
     "data": {
      "text/plain": [
       "'0001_user_log.csv'"
      ]
     },
     "execution_count": 4,
     "metadata": {},
     "output_type": "execute_result"
    }
   ],
   "source": [
    "logFile.volunteerLogFileName"
   ]
  },
  {
   "cell_type": "code",
   "execution_count": 5,
   "metadata": {},
   "outputs": [],
   "source": [
    "logFile.log(phaseName = 'initial_instructions', \n",
    "            eventType = 'begin',\n",
    "            imgName = 'none', \n",
    "            imgType = 'none', \n",
    "            inStudyPhase = 'none', \n",
    "            answer = 'none')"
   ]
  },
  {
   "cell_type": "code",
   "execution_count": 6,
   "metadata": {},
   "outputs": [],
   "source": [
    "logFile.log(phaseName = 'study_phase', \n",
    "            eventType = 'show_image',\n",
    "            imgName = 'P001.jpg', \n",
    "            imgType = 'positive', \n",
    "            inStudyPhase = 'yes', \n",
    "            answer = 'none')"
   ]
  },
  {
   "cell_type": "code",
   "execution_count": 7,
   "metadata": {},
   "outputs": [],
   "source": [
    "logFile.log(phaseName = 'test_phase', \n",
    "            eventType = 'show_image',\n",
    "            imgName = 'P001.jpg', \n",
    "            imgType = 'positive', \n",
    "            inStudyPhase = 'yes', \n",
    "            answer = 'none')"
   ]
  },
  {
   "cell_type": "code",
   "execution_count": 8,
   "metadata": {},
   "outputs": [],
   "source": [
    "logFile.log(phaseName = 'test_phase', \n",
    "            eventType = 'answer',\n",
    "            imgName = 'P001.jpg', \n",
    "            imgType = 'positive', \n",
    "            inStudyPhase = 'yes', \n",
    "            answer = 'yes')"
   ]
  },
  {
   "cell_type": "code",
   "execution_count": 9,
   "metadata": {},
   "outputs": [],
   "source": [
    "logFile.closeLogFile()"
   ]
  },
  {
   "cell_type": "code",
   "execution_count": 18,
   "metadata": {},
   "outputs": [
    {
     "name": "stdout",
     "output_type": "stream",
     "text": [
      "2020-11-20 17:53:25.375094\n"
     ]
    }
   ],
   "source": [
    "from datetime import datetime\n",
    "dateTimeObj1 = datetime.now()\n",
    "print(dateTimeObj1)"
   ]
  },
  {
   "cell_type": "code",
   "execution_count": 19,
   "metadata": {},
   "outputs": [
    {
     "name": "stdout",
     "output_type": "stream",
     "text": [
      "2020-11-20 17:53:25.846305\n"
     ]
    }
   ],
   "source": [
    "dateTimeObj2 = datetime.now()\n",
    "print(dateTimeObj2)"
   ]
  },
  {
   "cell_type": "code",
   "execution_count": 37,
   "metadata": {},
   "outputs": [
    {
     "data": {
      "text/plain": [
       "'2020-11-20 18:13:10.313644'"
      ]
     },
     "execution_count": 37,
     "metadata": {},
     "output_type": "execute_result"
    }
   ],
   "source": [
    "str(datetime.now())"
   ]
  },
  {
   "cell_type": "markdown",
   "metadata": {},
   "source": [
    "Test phase testing"
   ]
  },
  {
   "cell_type": "code",
   "execution_count": 58,
   "metadata": {},
   "outputs": [
    {
     "name": "stdout",
     "output_type": "stream",
     "text": [
      "+-----+-----------------------------+--------------------------------+--------------+\n",
      "|  #  | Image Type                  | Image Name                     | Image Delay  |\n",
      "+-----+-----------------------------+--------------------------------+--------------+\n",
      "|   1 | cross                       | cross.jpg                      |         1000 |\n",
      "|   2 | negative_human_concerns     | H022.jpg                       |         2000 |\n",
      "|   3 | cross                       | cross.jpg                      |         1000 |\n",
      "|   4 | negative_human_concerns     | H057.jpg                       |         2000 |\n",
      "|   5 | cross                       | cross.jpg                      |         1000 |\n",
      "|   6 | positive                    | P039.jpg                       |         2000 |\n",
      "|   7 | cross                       | cross.jpg                      |         1000 |\n",
      "|   8 | negative_human_concerns     | H001.jpg                       |         2000 |\n",
      "|   9 | cross                       | cross.jpg                      |         1000 |\n",
      "|  10 | negative_animal_concerns    | A062.jpg                       |         2000 |\n",
      "|  11 | cross                       | cross.jpg                      |         1000 |\n",
      "|  12 | negative_animal_concerns    | A047.jpg                       |         2000 |\n",
      "|  13 | cross                       | cross.jpg                      |         1000 |\n",
      "|  14 | negative_snakes             | Sn080.jpg                      |         2000 |\n",
      "|  15 | cross                       | cross.jpg                      |         1000 |\n",
      "|  16 | positive                    | P110.jpg                       |         2000 |\n",
      "|  17 | cross                       | cross.jpg                      |         1000 |\n",
      "|  18 | positive                    | P092.jpg                       |         2000 |\n",
      "|  19 | cross                       | cross.jpg                      |         1000 |\n",
      "|  20 | positive                    | P038.jpg                       |         2000 |\n",
      "|  21 | cross                       | cross.jpg                      |         1000 |\n",
      "|  22 | negative_snakes             | Sn059.jpg                      |         2000 |\n",
      "|  23 | cross                       | cross.jpg                      |         1000 |\n",
      "|  24 | positive                    | P064.jpg                       |         2000 |\n",
      "|  25 | cross                       | cross.jpg                      |         1000 |\n",
      "|  26 | positive                    | P095.jpg                       |         2000 |\n",
      "|  27 | cross                       | cross.jpg                      |         1000 |\n",
      "|  28 | catch_stimuli               | tiger_caricature.jpeg          |         5000 |\n",
      "|  29 | cross                       | cross.jpg                      |         1000 |\n",
      "|  30 | neutral                     | N078.jpg                       |         2000 |\n",
      "|  31 | cross                       | cross.jpg                      |         1000 |\n",
      "|  32 | neutral                     | N022.jpg                       |         2000 |\n",
      "|  33 | cross                       | cross.jpg                      |         1000 |\n",
      "|  34 | neutral                     | N024.jpg                       |         2000 |\n",
      "|  35 | cross                       | cross.jpg                      |         1000 |\n",
      "|  36 | neutral                     | N002.jpg                       |         2000 |\n",
      "|  37 | cross                       | cross.jpg                      |         1000 |\n",
      "|  38 | negative_human_concerns     | H050.jpg                       |         2000 |\n",
      "|  39 | cross                       | cross.jpg                      |         1000 |\n",
      "|  40 | negative_animal_concerns    | A027.jpg                       |         2000 |\n",
      "|  41 | cross                       | cross.jpg                      |         1000 |\n",
      "|  42 | catch_stimuli               | smiling_shark.jpeg             |         5000 |\n",
      "|  43 | cross                       | cross.jpg                      |         1000 |\n",
      "|  44 | neutral                     | N096.jpg                       |         2000 |\n",
      "|  45 | cross                       | cross.jpg                      |         1000 |\n",
      "|  46 | neutral                     | N093.jpg                       |         2000 |\n",
      "|  47 | cross                       | cross.jpg                      |         1000 |\n",
      "|  48 | neutral                     | N040.jpg                       |         2000 |\n",
      "|  49 | cross                       | cross.jpg                      |         1000 |\n",
      "|  50 | positive                    | P091.jpg                       |         2000 |\n",
      "|  51 | cross                       | cross.jpg                      |         1000 |\n",
      "|  52 | neutral                     | N104.jpg                       |         2000 |\n",
      "|  53 | cross                       | cross.jpg                      |         1000 |\n",
      "|  54 | negative_animal_concerns    | A122.jpg                       |         2000 |\n",
      "|  55 | cross                       | cross.jpg                      |         1000 |\n",
      "|  56 | positive                    | P089.jpg                       |         2000 |\n",
      "|  57 | cross                       | cross.jpg                      |         1000 |\n",
      "|  58 | neutral                     | N089.jpg                       |         2000 |\n",
      "|  59 | cross                       | cross.jpg                      |         1000 |\n",
      "|  60 | negative_animal_concerns    | A029.jpg                       |         2000 |\n",
      "|  61 | cross                       | cross.jpg                      |         1000 |\n",
      "|  62 | negative_spiders            | Sp145.jpg                      |         2000 |\n",
      "|  63 | cross                       | cross.jpg                      |         1000 |\n",
      "|  64 | positive                    | P003.jpg                       |         2000 |\n",
      "|  65 | cross                       | cross.jpg                      |         1000 |\n",
      "|  66 | positive                    | P074.jpg                       |         2000 |\n",
      "|  67 | cross                       | cross.jpg                      |         1000 |\n",
      "|  68 | positive                    | P067.jpg                       |         2000 |\n",
      "|  69 | cross                       | cross.jpg                      |         1000 |\n",
      "|  70 | neutral                     | N066.jpg                       |         2000 |\n",
      "|  71 | cross                       | cross.jpg                      |         1000 |\n",
      "|  72 | positive                    | P053.jpg                       |         2000 |\n",
      "|  73 | cross                       | cross.jpg                      |         1000 |\n",
      "|  74 | neutral                     | N097.jpg                       |         2000 |\n",
      "|  75 | cross                       | cross.jpg                      |         1000 |\n",
      "|  76 | neutral                     | N025.jpg                       |         2000 |\n",
      "|  77 | cross                       | cross.jpg                      |         1000 |\n",
      "|  78 | neutral                     | N067.jpg                       |         2000 |\n",
      "|  79 | cross                       | cross.jpg                      |         1000 |\n",
      "|  80 | catch_stimuli               | bird_caricature.jpeg           |         5000 |\n",
      "|  81 | cross                       | cross.jpg                      |         1000 |\n",
      "|  82 | positive                    | P048.jpg                       |         2000 |\n",
      "|  83 | cross                       | cross.jpg                      |         1000 |\n",
      "|  84 | positive                    | P021.jpg                       |         2000 |\n",
      "|  85 | cross                       | cross.jpg                      |         1000 |\n",
      "|  86 | negative_animal_concerns    | A045.jpg                       |         2000 |\n",
      "|  87 | cross                       | cross.jpg                      |         1000 |\n",
      "|  88 | negative_human_concerns     | H020.jpg                       |         2000 |\n",
      "|  89 | cross                       | cross.jpg                      |         1000 |\n",
      "|  90 | neutral                     | N111.jpg                       |         2000 |\n",
      "|  91 | cross                       | cross.jpg                      |         1000 |\n",
      "|  92 | negative_spiders            | Sp159.jpg                      |         2000 |\n",
      "|  93 | cross                       | cross.jpg                      |         1000 |\n",
      "|  94 | catch_stimuli               | camel_caricature.jpeg          |         5000 |\n",
      "|  95 | cross                       | cross.jpg                      |         1000 |\n",
      "|  96 | catch_stimuli               | squirrel_holding_a_gun.jpeg    |         5000 |\n",
      "|  97 | cross                       | cross.jpg                      |         1000 |\n",
      "|  98 | negative_human_concerns     | H059.jpg                       |         2000 |\n",
      "|  99 | cross                       | cross.jpg                      |         1000 |\n",
      "| 100 | neutral                     | N015.jpg                       |         2000 |\n",
      "| 101 | cross                       | cross.jpg                      |         1000 |\n",
      "| 102 | positive                    | P066.jpg                       |         2000 |\n",
      "| 103 | cross                       | cross.jpg                      |         1000 |\n",
      "| 104 | neutral                     | N081.jpg                       |         2000 |\n",
      "| 105 | cross                       | cross.jpg                      |         1000 |\n",
      "| 106 | positive                    | P052.jpg                       |         2000 |\n",
      "+-----+-----------------------------+--------------------------------+--------------+\n"
     ]
    }
   ],
   "source": [
    "imageList = tp.getLinearImageSequence(shuffleImages=True)\n",
    "\n",
    "print(\"+\" + \"-\"*5 + \"+\" + \"-\"*29 + \"+\" + \"-\"*32 + \"+\" + \"-\"*14 + \"+\" )\n",
    "print(\"|  #  | {:28s}| {:30s} | {:12s} |\".format(\"Image Type\", \"Image Name\", \"Image Delay\"))\n",
    "print(\"+\" + \"-\"*5 + \"+\" + \"-\"*29 + \"+\" + \"-\"*32 + \"+\" + \"-\"*14 + \"+\" )\n",
    "for i, (imageName, imagePath, imageType, imageDelay) in enumerate(imageList):\n",
    "    print(\"| {:3d} | {:28s}| {:30s} | {:12d} |\".format(i+1, imageType, imageName, imageDelay))\n",
    "print(\"+\" + \"-\"*5 + \"+\" + \"-\"*29 + \"+\" + \"-\"*32 + \"+\" + \"-\"*14 + \"+\" )"
   ]
  },
  {
   "cell_type": "markdown",
   "metadata": {},
   "source": [
    "Draft"
   ]
  },
  {
   "cell_type": "code",
   "execution_count": 2,
   "metadata": {},
   "outputs": [
    {
     "name": "stdout",
     "output_type": "stream",
     "text": [
      "buffer_stimuli\n",
      "buffer_stimuli\n",
      "neutral\n",
      "positive\n",
      "negative_spiders\n",
      "positive\n",
      "positive\n",
      "neutral\n",
      "negative_animal_concerns\n",
      "negative_animal_concerns\n",
      "neutral\n",
      "positive\n",
      "positive\n",
      "negative_human_concerns\n",
      "positive\n",
      "negative_human_concerns\n",
      "positive\n",
      "negative_human_concerns\n",
      "neutral\n",
      "negative_animal_concerns\n",
      "neutral\n",
      "negative_snakes\n",
      "neutral\n",
      "positive\n",
      "neutral\n",
      "neutral\n",
      "buffer_stimuli\n",
      "buffer_stimuli\n"
     ]
    }
   ],
   "source": [
    "for nome, _, tipo, _ in sp.getLinearImageSequence(True, False):\n",
    "    print('{}'.format(tipo))"
   ]
  },
  {
   "cell_type": "code",
   "execution_count": 3,
   "metadata": {},
   "outputs": [
    {
     "data": {
      "text/plain": [
       "dict_keys(['positive', 'neutral', 'negative_snakes', 'negative_spiders', 'negative_human_concerns', 'negative_animal_concerns', 'negative_all'])"
      ]
     },
     "execution_count": 3,
     "metadata": {},
     "output_type": "execute_result"
    }
   ],
   "source": [
    "arqs.dictAdditionalImages.keys()"
   ]
  },
  {
   "cell_type": "code",
   "execution_count": 4,
   "metadata": {},
   "outputs": [
    {
     "data": {
      "text/plain": [
       "['A029.jpg', 'A047.jpg', 'A122.jpg']"
      ]
     },
     "execution_count": 4,
     "metadata": {},
     "output_type": "execute_result"
    }
   ],
   "source": [
    "arqs.dictAdditionalImages['negative_animal_concerns']"
   ]
  },
  {
   "cell_type": "code",
   "execution_count": 6,
   "metadata": {},
   "outputs": [
    {
     "data": {
      "text/plain": [
       "['bird_caricature.jpeg',\n",
       " 'smiling_shark.jpeg',\n",
       " 'tiger_caricature.jpeg',\n",
       " 'camel_caricature.jpeg',\n",
       " 'squirrel_holding_a_gun.jpeg']"
      ]
     },
     "execution_count": 6,
     "metadata": {},
     "output_type": "execute_result"
    }
   ],
   "source": [
    "arqs.dictCatchImages['catch_stimuli']"
   ]
  },
  {
   "cell_type": "code",
   "execution_count": 2,
   "metadata": {},
   "outputs": [],
   "source": [
    "from test_phase import TestPhase"
   ]
  },
  {
   "cell_type": "code",
   "execution_count": 3,
   "metadata": {},
   "outputs": [],
   "source": [
    "tp = TestPhase(arqs)"
   ]
  },
  {
   "cell_type": "code",
   "execution_count": 5,
   "metadata": {},
   "outputs": [
    {
     "data": {
      "text/plain": [
       "5000"
      ]
     },
     "execution_count": 5,
     "metadata": {},
     "output_type": "execute_result"
    }
   ],
   "source": [
    "tp.delayCatchImage"
   ]
  },
  {
   "cell_type": "code",
   "execution_count": 6,
   "metadata": {},
   "outputs": [
    {
     "data": {
      "text/plain": [
       "1000"
      ]
     },
     "execution_count": 6,
     "metadata": {},
     "output_type": "execute_result"
    }
   ],
   "source": [
    "tp.delayCross"
   ]
  },
  {
   "cell_type": "code",
   "execution_count": 7,
   "metadata": {},
   "outputs": [
    {
     "data": {
      "text/plain": [
       "2000"
      ]
     },
     "execution_count": 7,
     "metadata": {},
     "output_type": "execute_result"
    }
   ],
   "source": [
    "tp.delayImage"
   ]
  },
  {
   "cell_type": "code",
   "execution_count": 9,
   "metadata": {},
   "outputs": [
    {
     "data": {
      "text/plain": [
       "{'random_seed': 12,\n",
       " 'study_phase_central_fixation_cross_delay': 1000,\n",
       " 'study_phase_to_be_studied_image_delay': 2000,\n",
       " 'test_phase_central_fixation_cross_delay': 1000,\n",
       " 'test_phase_catch_stimuli_image_delay': 5000}"
      ]
     },
     "execution_count": 9,
     "metadata": {},
     "output_type": "execute_result"
    }
   ],
   "source": [
    "tp.dictSoftwareConfig"
   ]
  },
  {
   "cell_type": "code",
   "execution_count": 14,
   "metadata": {},
   "outputs": [
    {
     "name": "stdout",
     "output_type": "stream",
     "text": [
      "cross.jpg\n",
      "P021.jpg\n",
      "cross.jpg\n",
      "P038.jpg\n",
      "cross.jpg\n",
      "P048.jpg\n",
      "cross.jpg\n",
      "P053.jpg\n",
      "cross.jpg\n",
      "P066.jpg\n",
      "cross.jpg\n",
      "P074.jpg\n",
      "cross.jpg\n",
      "P091.jpg\n",
      "cross.jpg\n",
      "P092.jpg\n",
      "cross.jpg\n",
      "P003.jpg\n",
      "cross.jpg\n",
      "P039.jpg\n",
      "cross.jpg\n",
      "P052.jpg\n",
      "cross.jpg\n",
      "P064.jpg\n",
      "cross.jpg\n",
      "P067.jpg\n",
      "cross.jpg\n",
      "P089.jpg\n",
      "cross.jpg\n",
      "P095.jpg\n",
      "cross.jpg\n",
      "P110.jpg\n",
      "cross.jpg\n",
      "N015.jpg\n",
      "cross.jpg\n",
      "N022.jpg\n",
      "cross.jpg\n",
      "N024.jpg\n",
      "cross.jpg\n",
      "N025.jpg\n",
      "cross.jpg\n",
      "N067.jpg\n",
      "cross.jpg\n",
      "N089.jpg\n",
      "cross.jpg\n",
      "N093.jpg\n",
      "cross.jpg\n",
      "N096.jpg\n",
      "cross.jpg\n",
      "N002.jpg\n",
      "cross.jpg\n",
      "N040.jpg\n",
      "cross.jpg\n",
      "N066.jpg\n",
      "cross.jpg\n",
      "N078.jpg\n",
      "cross.jpg\n",
      "N081.jpg\n",
      "cross.jpg\n",
      "N097.jpg\n",
      "cross.jpg\n",
      "N104.jpg\n",
      "cross.jpg\n",
      "N111.jpg\n",
      "cross.jpg\n",
      "Sn080.jpg\n",
      "cross.jpg\n",
      "Sp159.jpg\n",
      "cross.jpg\n",
      "H001.jpg\n",
      "cross.jpg\n",
      "H020.jpg\n",
      "cross.jpg\n",
      "H057.jpg\n",
      "cross.jpg\n",
      "A027.jpg\n",
      "cross.jpg\n",
      "A045.jpg\n",
      "cross.jpg\n",
      "A062.jpg\n",
      "cross.jpg\n",
      "Sn059.jpg\n",
      "cross.jpg\n",
      "Sp145.jpg\n",
      "cross.jpg\n",
      "H022.jpg\n",
      "cross.jpg\n",
      "H050.jpg\n",
      "cross.jpg\n",
      "H059.jpg\n",
      "cross.jpg\n",
      "A029.jpg\n",
      "cross.jpg\n",
      "A047.jpg\n",
      "cross.jpg\n",
      "A122.jpg\n",
      "cross.jpg\n",
      "bird_caricature.jpeg\n",
      "cross.jpg\n",
      "smiling_shark.jpeg\n",
      "cross.jpg\n",
      "tiger_caricature.jpeg\n",
      "cross.jpg\n",
      "camel_caricature.jpeg\n",
      "cross.jpg\n",
      "squirrel_holding_a_gun.jpeg\n"
     ]
    }
   ],
   "source": [
    "for name, _, _, _ in tp.getLinearImageSequence(False,True):\n",
    "    print(name)"
   ]
  },
  {
   "cell_type": "code",
   "execution_count": null,
   "metadata": {},
   "outputs": [],
   "source": []
  }
 ],
 "metadata": {
  "kernelspec": {
   "display_name": "Python 3",
   "language": "python",
   "name": "python3"
  },
  "language_info": {
   "codemirror_mode": {
    "name": "ipython",
    "version": 3
   },
   "file_extension": ".py",
   "mimetype": "text/x-python",
   "name": "python",
   "nbconvert_exporter": "python",
   "pygments_lexer": "ipython3",
   "version": "3.8.5"
  }
 },
 "nbformat": 4,
 "nbformat_minor": 4
}
