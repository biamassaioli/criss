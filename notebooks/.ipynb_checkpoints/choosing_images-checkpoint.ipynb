{
 "cells": [
  {
   "cell_type": "markdown",
   "metadata": {},
   "source": [
    "# Choosing images"
   ]
  },
  {
   "cell_type": "code",
   "execution_count": 48,
   "metadata": {},
   "outputs": [],
   "source": [
    "from files import Files\n",
    "files_ = Files()"
   ]
  },
  {
   "cell_type": "markdown",
   "metadata": {},
   "source": [
    "## Input parameters"
   ]
  },
  {
   "cell_type": "code",
   "execution_count": 77,
   "metadata": {},
   "outputs": [],
   "source": [
    "positive_images_quantity = 40\n",
    "negative_images_quantity = positive_images_quantity\n",
    "neutral_images_quantity  = positive_images_quantity\n",
    "buffer_images_quantity = 24\n",
    "# must be an even number.\n",
    "\n",
    "catch_image_names = ['bird_caricature.jpeg', \n",
    "                     'camel_caricature.jpeg',\n",
    "                     'smiling_shark.jpeg',\n",
    "                     'squirrel_holding_a_gun.jpeg',\n",
    "                     'tiger_caricature.jpeg']"
   ]
  },
  {
   "cell_type": "markdown",
   "metadata": {},
   "source": [
    "# Check image count limits"
   ]
  },
  {
   "cell_type": "code",
   "execution_count": 78,
   "metadata": {},
   "outputs": [
    {
     "data": {
      "text/plain": [
       "520"
      ]
     },
     "execution_count": 78,
     "metadata": {},
     "output_type": "execute_result"
    }
   ],
   "source": [
    "animal_concern_total + human_concern_total + snake_total + spider_total"
   ]
  },
  {
   "cell_type": "code",
   "execution_count": 79,
   "metadata": {},
   "outputs": [],
   "source": [
    "animal_concern_total = 124\n",
    "human_concern_total = 105\n",
    "neutral_total = 89\n",
    "positive_total = 121\n",
    "snake_total = 133\n",
    "spider_total = 158"
   ]
  },
  {
   "cell_type": "code",
   "execution_count": 80,
   "metadata": {},
   "outputs": [
    {
     "name": "stdout",
     "output_type": "stream",
     "text": [
      "104\n"
     ]
    },
    {
     "data": {
      "text/plain": [
       "True"
      ]
     },
     "execution_count": 80,
     "metadata": {},
     "output_type": "execute_result"
    }
   ],
   "source": [
    "print(neutral_images_quantity*2 + buffer_images_quantity)\n",
    "neutral_images_quantity*2 + buffer_images_quantity > 89"
   ]
  },
  {
   "cell_type": "code",
   "execution_count": 53,
   "metadata": {},
   "outputs": [
    {
     "data": {
      "text/plain": [
       "88"
      ]
     },
     "execution_count": 53,
     "metadata": {},
     "output_type": "execute_result"
    }
   ],
   "source": [
    "neutral_images_quantity*2 + buffer_images_quantity"
   ]
  },
  {
   "cell_type": "markdown",
   "metadata": {},
   "source": [
    "## Execution"
   ]
  },
  {
   "cell_type": "code",
   "execution_count": 54,
   "metadata": {},
   "outputs": [],
   "source": [
    "# Image types"
   ]
  },
  {
   "cell_type": "code",
   "execution_count": 55,
   "metadata": {},
   "outputs": [
    {
     "data": {
      "text/plain": [
       "dict_keys(['positive', 'neutral', 'buffer_stimuli', 'negative_snakes', 'negative_spiders', 'negative_human_concerns', 'negative_animal_concerns', 'negative_all', 'catch_stimuli'])"
      ]
     },
     "execution_count": 55,
     "metadata": {},
     "output_type": "execute_result"
    }
   ],
   "source": [
    "files_.dictImageTypesFileList.keys()"
   ]
  },
  {
   "cell_type": "code",
   "execution_count": 56,
   "metadata": {},
   "outputs": [],
   "source": [
    "snake_images_quantity = int(negative_images_quantity / 4)\n",
    "spider_images_quantity = int(negative_images_quantity / 4)\n",
    "human_concerns_images_quantity = int(negative_images_quantity / 4)\n",
    "animal_concerns_images_quantity = int(negative_images_quantity / 4)"
   ]
  },
  {
   "cell_type": "code",
   "execution_count": 57,
   "metadata": {},
   "outputs": [],
   "source": [
    "positive_list_all = files_.getRandomImageNames('positive', n = positive_images_quantity*2)\n",
    "positive_list = positive_list_all[:positive_images_quantity]\n",
    "positive_list_additional = positive_list_all[positive_images_quantity:]"
   ]
  },
  {
   "cell_type": "code",
   "execution_count": 58,
   "metadata": {},
   "outputs": [],
   "source": [
    "#----------------------------------------\n",
    "# For small number of neutral images\n",
    "#----------------------------------------\n",
    "# neutral_list_all = files_.getRandomImageNames('neutral', n = neutral_images_quantity*2 + buffer_images_quantity)\n",
    "\n",
    "#----------------------------------------\n",
    "# For big number of neutral images\n",
    "#----------------------------------------\n",
    "neutral_list_all = files_.neutralImagesFileList[:neutral_images_quantity*2 + buffer_images_quantity]\n",
    "\n",
    "#----------------------------------------\n",
    "buffer_list = neutral_list_all[:buffer_images_quantity]\n",
    "neutral_list = neutral_list_all[buffer_images_quantity:neutral_images_quantity+buffer_images_quantity]\n",
    "neutral_list_additional = neutral_list_all[neutral_images_quantity+buffer_images_quantity:]"
   ]
  },
  {
   "cell_type": "code",
   "execution_count": 59,
   "metadata": {},
   "outputs": [],
   "source": [
    "negative_human_all = files_.getRandomImageNames('negative_human_concerns', n = human_concerns_images_quantity * 2)\n",
    "negative_human = negative_human_all[:human_concerns_images_quantity]\n",
    "negative_human_additional = negative_human_all[human_concerns_images_quantity:]"
   ]
  },
  {
   "cell_type": "code",
   "execution_count": 60,
   "metadata": {},
   "outputs": [],
   "source": [
    "negative_animal_all = files_.getRandomImageNames('negative_animal_concerns', n = animal_concerns_images_quantity * 2)\n",
    "negative_animal = negative_animal_all[:animal_concerns_images_quantity]\n",
    "negative_animal_additional = negative_animal_all[animal_concerns_images_quantity:]"
   ]
  },
  {
   "cell_type": "code",
   "execution_count": 61,
   "metadata": {},
   "outputs": [],
   "source": [
    "negative_spider_all = files_.getRandomImageNames('negative_spiders', n = spider_images_quantity * 2)\n",
    "negative_spider = negative_spider_all[:spider_images_quantity]\n",
    "negative_spider_additional = negative_spider_all[spider_images_quantity:]"
   ]
  },
  {
   "cell_type": "code",
   "execution_count": 62,
   "metadata": {},
   "outputs": [],
   "source": [
    "negative_snake_all = files_.getRandomImageNames('negative_snakes', n = snake_images_quantity * 2)\n",
    "negative_snake = negative_snake_all[:snake_images_quantity]\n",
    "negative_snake_additional = negative_snake_all[snake_images_quantity:]"
   ]
  },
  {
   "cell_type": "markdown",
   "metadata": {},
   "source": [
    "## Sanity test"
   ]
  },
  {
   "cell_type": "code",
   "execution_count": 63,
   "metadata": {},
   "outputs": [
    {
     "name": "stdout",
     "output_type": "stream",
     "text": [
      "00 Sn002.bmp Sn057.bmp\n",
      "01 Sn007.bmp Sn064.bmp\n",
      "02 Sn016.bmp Sn068.bmp\n",
      "03 Sn025.bmp Sn089.bmp\n",
      "04 Sn028.bmp Sn101.bmp\n",
      "05 Sn029.bmp Sn107.bmp\n",
      "06 Sn032.bmp Sn115.bmp\n",
      "07 Sn034.bmp Sn129.bmp\n",
      "08 Sn040.bmp Sn130.bmp\n",
      "09 Sn052.bmp Sn131.bmp\n"
     ]
    }
   ],
   "source": [
    "for i, (nome, nome2) in enumerate(zip(negative_snake,negative_snake_additional)):\n",
    "    print(\"{:02d}\".format(i), nome, nome2)"
   ]
  },
  {
   "cell_type": "markdown",
   "metadata": {},
   "source": [
    "## Information for the user configuration file\n",
    "\n",
    "### Selected images"
   ]
  },
  {
   "cell_type": "code",
   "execution_count": 64,
   "metadata": {},
   "outputs": [
    {
     "name": "stdout",
     "output_type": "stream",
     "text": [
      "selected_positive_images: ['P004.bmp', 'P006.bmp', 'P007.bmp', 'P008.bmp', 'P009.bmp', 'P010.bmp', 'P011.bmp', 'P012.bmp', 'P013.bmp', 'P014.bmp', 'P015.bmp', 'P016.bmp', 'P017.bmp', 'P018.bmp', 'P021.bmp', 'P022.bmp', 'P023.bmp', 'P024.bmp', 'P025.bmp', 'P026.bmp', 'P038.bmp', 'P039.bmp', 'P040.bmp', 'P041.bmp', 'P042.bmp', 'P043.bmp', 'P044.bmp', 'P046.bmp', 'P049.bmp', 'P050.bmp', 'P052.bmp', 'P053.bmp', 'P054.bmp', 'P055.bmp', 'P058.bmp', 'P061.bmp', 'P062.bmp', 'P064.bmp', 'P065.bmp', 'P066.bmp']\n",
      "\n",
      "selected_neutral_images: ['N011.bmp', 'N013.bmp', 'N014.bmp', 'N015.bmp', 'N016.bmp', 'N017.bmp', 'N018.bmp', 'N019.bmp', 'N020.bmp', 'N021.bmp', 'N022.bmp', 'N023.bmp', 'N024.bmp', 'N025.bmp', 'N026.bmp', 'N027.bmp', 'N028.bmp', 'N030.bmp', 'N031.bmp', 'N032.bmp', 'N033.bmp', 'N034.bmp', 'N035.bmp', 'N036.bmp', 'N037.bmp', 'N038.bmp', 'N039.bmp', 'N040.bmp', 'N041.bmp', 'N042.bmp', 'N043.bmp', 'N044.bmp', 'N045.bmp', 'N046.bmp', 'N047.bmp', 'N061.bmp', 'N062.bmp', 'N064.bmp', 'N065.bmp', 'N066.bmp']\n",
      "\n",
      "selected_buffer_stimuli_images: ['N001.bmp', 'N002.bmp', 'N003.bmp', 'N004.bmp', 'N006.bmp', 'N008.bmp', 'N009.bmp', 'N010.bmp']\n",
      "\n",
      "selected_snake_images: ['Sn002.bmp', 'Sn007.bmp', 'Sn016.bmp', 'Sn025.bmp', 'Sn028.bmp', 'Sn029.bmp', 'Sn032.bmp', 'Sn034.bmp', 'Sn040.bmp', 'Sn052.bmp']\n",
      "\n",
      "selected_spider_images: ['Sp014.bmp', 'Sp016.bmp', 'Sp046.bmp', 'Sp048.bmp', 'Sp049.bmp', 'Sp056.bmp', 'Sp057.bmp', 'Sp058.bmp', 'Sp061.bmp', 'Sp078.bmp']\n",
      "\n",
      "selected_human_concerns_images: ['H001.bmp', 'H003.bmp', 'H006.bmp', 'H015.bmp', 'H017.bmp', 'H018.bmp', 'H020.bmp', 'H035.bmp', 'H045.bmp', 'H057.bmp']\n",
      "\n",
      "selected_animal_concerns_images: ['A006.bmp', 'A014.bmp', 'A027.bmp', 'A029.bmp', 'A036.bmp', 'A047.bmp', 'A053.bmp', 'A055.bmp', 'A062.bmp', 'A079.bmp']\n"
     ]
    }
   ],
   "source": [
    "print('selected_positive_images: [', end='')\n",
    "for i, name in enumerate(positive_list):\n",
    "    print(\"'{}'\".format(name), end='')\n",
    "    if i != len(positive_list)-1:\n",
    "        print(', ', end='')\n",
    "print(']')\n",
    "\n",
    "print()\n",
    "print('selected_neutral_images: [', end='')\n",
    "for i, name in enumerate(neutral_list):\n",
    "    print(\"'{}'\".format(name), end='')\n",
    "    if i != len(neutral_list)-1:\n",
    "        print(', ', end='')\n",
    "print(']')\n",
    "\n",
    "print()\n",
    "print('selected_buffer_stimuli_images: [', end='')\n",
    "for i, name in enumerate(buffer_list):\n",
    "    print(\"'{}'\".format(name), end='')\n",
    "    if i != len(buffer_list)-1:\n",
    "        print(', ', end='')\n",
    "print(']')\n",
    "\n",
    "print()\n",
    "print('selected_snake_images: [', end='')\n",
    "for i, name in enumerate(negative_snake):\n",
    "    print(\"'{}'\".format(name), end='')\n",
    "    if i != len(negative_snake)-1:\n",
    "        print(', ', end='')\n",
    "print(']')\n",
    "\n",
    "\n",
    "print()\n",
    "print('selected_spider_images: [', end='')\n",
    "for i, name in enumerate(negative_spider):\n",
    "    print(\"'{}'\".format(name), end='')\n",
    "    if i != len(negative_spider)-1:\n",
    "        print(', ', end='')\n",
    "print(']')\n",
    "\n",
    "\n",
    "print()\n",
    "print('selected_human_concerns_images: [', end='')\n",
    "for i, name in enumerate(negative_human):\n",
    "    print(\"'{}'\".format(name), end='')\n",
    "    if i != len(negative_human)-1:\n",
    "        print(', ', end='')\n",
    "print(']')\n",
    "\n",
    "print()\n",
    "print('selected_animal_concerns_images: [', end='')\n",
    "for i, name in enumerate(negative_animal):\n",
    "    print(\"'{}'\".format(name), end='')\n",
    "    if i != len(negative_animal)-1:\n",
    "        print(', ', end='')\n",
    "print(']')\n"
   ]
  },
  {
   "cell_type": "markdown",
   "metadata": {},
   "source": [
    "### Aditional images"
   ]
  },
  {
   "cell_type": "code",
   "execution_count": 65,
   "metadata": {},
   "outputs": [
    {
     "name": "stdout",
     "output_type": "stream",
     "text": [
      "additional_positive_images: ['P070.bmp', 'P071.bmp', 'P072.bmp', 'P073.bmp', 'P074.bmp', 'P077.bmp', 'P080.bmp', 'P081.bmp', 'P082.bmp', 'P083.bmp', 'P084.bmp', 'P086.bmp', 'P089.bmp', 'P090.bmp', 'P091.bmp', 'P092.bmp', 'P093.bmp', 'P095.bmp', 'P096.bmp', 'P098.bmp', 'P099.bmp', 'P100.bmp', 'P103.bmp', 'P104.bmp', 'P105.bmp', 'P106.bmp', 'P107.bmp', 'P108.bmp', 'P110.bmp', 'P111.bmp', 'P113.bmp', 'P114.bmp', 'P116.bmp', 'P117.bmp', 'P119.bmp', 'P121.bmp', 'P122.bmp', 'P124.bmp', 'P129.bmp', 'P130.bmp']\n",
      "\n",
      "additional_neutral_images: ['N067.bmp', 'N068.bmp', 'N069.bmp', 'N070.bmp', 'N071.bmp', 'N072.bmp', 'N073.bmp', 'N075.bmp', 'N076.bmp', 'N077.bmp', 'N078.bmp', 'N079.bmp', 'N080.bmp', 'N081.bmp', 'N082.bmp', 'N083.bmp', 'N085.bmp', 'N086.bmp', 'N087.bmp', 'N088.bmp', 'N089.bmp', 'N090.bmp', 'N091.bmp', 'N092.bmp', 'N093.bmp', 'N094.bmp', 'N095.bmp', 'N096.bmp', 'N097.bmp', 'N098.bmp', 'N099.bmp', 'N100.bmp', 'N101.bmp', 'N102.bmp', 'N104.bmp', 'N105.bmp', 'N106.bmp', 'N107.bmp', 'N108.bmp', 'N109.bmp']\n",
      "\n",
      "additional_snake_images: ['Sn057.bmp', 'Sn064.bmp', 'Sn068.bmp', 'Sn089.bmp', 'Sn101.bmp', 'Sn107.bmp', 'Sn115.bmp', 'Sn129.bmp', 'Sn130.bmp', 'Sn131.bmp']\n",
      "\n",
      "additional_spider_images: ['Sp085.bmp', 'Sp090.bmp', 'Sp101.bmp', 'Sp102.bmp', 'Sp104.bmp', 'Sp107.bmp', 'Sp120.bmp', 'Sp131.bmp', 'Sp140.bmp', 'Sp153.bmp']\n",
      "\n",
      "additional_human_concerns_images: ['H059.bmp', 'H066.bmp', 'H079.bmp', 'H086.bmp', 'H103.bmp', 'H106.bmp', 'H108.bmp', 'H110.bmp', 'H112.bmp', 'H123.bmp']\n",
      "\n",
      "additional_animal_concerns_images: ['A082.bmp', 'A092.bmp', 'A093.bmp', 'A095.bmp', 'A098.bmp', 'A114.bmp', 'A115.bmp', 'A116.bmp', 'A127.bmp', 'A129.bmp']\n"
     ]
    }
   ],
   "source": [
    "print('additional_positive_images: [', end='')\n",
    "for i, name in enumerate(positive_list_additional):\n",
    "    print(\"'{}'\".format(name), end='')\n",
    "    if i != len(positive_list_additional)-1:\n",
    "        print(', ', end='')\n",
    "print(']')\n",
    "\n",
    "print()\n",
    "print('additional_neutral_images: [', end='')\n",
    "for i, name in enumerate(neutral_list_additional):\n",
    "    print(\"'{}'\".format(name), end='')\n",
    "    if i != len(neutral_list_additional)-1:\n",
    "        print(', ', end='')\n",
    "print(']')\n",
    "\n",
    "print()\n",
    "print('additional_snake_images: [', end='')\n",
    "for i, name in enumerate(negative_snake_additional):\n",
    "    print(\"'{}'\".format(name), end='')\n",
    "    if i != len(negative_snake_additional)-1:\n",
    "        print(', ', end='')\n",
    "print(']')\n",
    "\n",
    "\n",
    "print()\n",
    "print('additional_spider_images: [', end='')\n",
    "for i, name in enumerate(negative_spider_additional):\n",
    "    print(\"'{}'\".format(name), end='')\n",
    "    if i != len(negative_spider_additional)-1:\n",
    "        print(', ', end='')\n",
    "print(']')\n",
    "\n",
    "\n",
    "print()\n",
    "print('additional_human_concerns_images: [', end='')\n",
    "for i, name in enumerate(negative_human_additional):\n",
    "    print(\"'{}'\".format(name), end='')\n",
    "    if i != len(negative_human_additional)-1:\n",
    "        print(', ', end='')\n",
    "print(']')\n",
    "\n",
    "print()\n",
    "print('additional_animal_concerns_images: [', end='')\n",
    "for i, name in enumerate(negative_animal_additional):\n",
    "    print(\"'{}'\".format(name), end='')\n",
    "    if i != len(negative_animal_additional)-1:\n",
    "        print(', ', end='')\n",
    "print(']')"
   ]
  },
  {
   "cell_type": "code",
   "execution_count": 66,
   "metadata": {},
   "outputs": [
    {
     "name": "stdout",
     "output_type": "stream",
     "text": [
      "\n",
      "catch_stimuli_images_list: ['bird_caricature.jpeg', 'camel_caricature.jpeg', 'smiling_shark.jpeg', 'squirrel_holding_a_gun.jpeg', 'tiger_caricature.jpeg']\n"
     ]
    }
   ],
   "source": [
    "print()\n",
    "print('catch_stimuli_images_list: [', end='')\n",
    "for i, name in enumerate(catch_image_names):\n",
    "    print(\"'{}'\".format(name), end='')\n",
    "    if i != len(catch_image_names)-1:\n",
    "        print(', ', end='')\n",
    "print(']')"
   ]
  },
  {
   "cell_type": "code",
   "execution_count": null,
   "metadata": {},
   "outputs": [],
   "source": []
  }
 ],
 "metadata": {
  "kernelspec": {
   "display_name": "Python 3",
   "language": "python",
   "name": "python3"
  },
  "language_info": {
   "codemirror_mode": {
    "name": "ipython",
    "version": 3
   },
   "file_extension": ".py",
   "mimetype": "text/x-python",
   "name": "python",
   "nbconvert_exporter": "python",
   "pygments_lexer": "ipython3",
   "version": "3.8.5"
  }
 },
 "nbformat": 4,
 "nbformat_minor": 4
}
