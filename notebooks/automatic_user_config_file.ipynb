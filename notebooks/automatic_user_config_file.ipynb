{
 "cells": [
  {
   "cell_type": "markdown",
   "metadata": {},
   "source": [
    "# Choosing images"
   ]
  },
  {
   "cell_type": "code",
   "execution_count": 1,
   "metadata": {},
   "outputs": [],
   "source": [
    "import sys\n",
    "CODE_DIR = \"../\"\n",
    "sys.path.insert(1, CODE_DIR)\n",
    "\n",
    "from files import Files\n",
    "from aux_funcs import (\n",
    "    getYAML,\n",
    "    getMaxEven,\n",
    "    get_file_names,\n",
    "    getImageNamesListString\n",
    ")\n",
    "from random import seed\n",
    "import yaml"
   ]
  },
  {
   "cell_type": "markdown",
   "metadata": {},
   "source": [
    "## Input parameters"
   ]
  },
  {
   "cell_type": "code",
   "execution_count": 2,
   "metadata": {},
   "outputs": [],
   "source": [
    "user_id = 888\n",
    "user_random_seed = 789"
   ]
  },
  {
   "cell_type": "markdown",
   "metadata": {},
   "source": [
    "## Other parameters"
   ]
  },
  {
   "cell_type": "code",
   "execution_count": 3,
   "metadata": {},
   "outputs": [
    {
     "name": "stdout",
     "output_type": "stream",
     "text": [
      "STUDY_PHASE_IMAGES_QUANTITY ...: 128\n",
      "TEST_PHASE_IMAGES_QUANTITY  ...: 240\n"
     ]
    }
   ],
   "source": [
    "#-\n",
    "seed(user_random_seed)\n",
    "USER_CONFIG_FILE_NAME = 'test2.yaml'\n",
    "SOFTWARE_CONFIG_FILENAME = \"software_config.yaml\"\n",
    "cross_image_name = \"cross.jpg\"\n",
    "\n",
    "# Study Phase\n",
    "STUDY_PHASE_POSITIVE_IMAGES_QUANTITY = 40\n",
    "STUDY_PHASE_BUFFER_IMAGES_QUANTITY = 8\n",
    "\n",
    "#---\n",
    "\n",
    "# Study Phase\n",
    "STUDY_PHASE_NEGATIVE_IMAGES_QUANTITY = STUDY_PHASE_POSITIVE_IMAGES_QUANTITY\n",
    "STUDY_PHASE_NEUTRAL_IMAGES_QUANTITY = STUDY_PHASE_POSITIVE_IMAGES_QUANTITY\n",
    "\n",
    "\n",
    "STUDY_PHASE_IMAGES_QUANTITY = (\n",
    "    STUDY_PHASE_POSITIVE_IMAGES_QUANTITY\n",
    "    + STUDY_PHASE_NEGATIVE_IMAGES_QUANTITY\n",
    "    + STUDY_PHASE_NEUTRAL_IMAGES_QUANTITY\n",
    "    + STUDY_PHASE_BUFFER_IMAGES_QUANTITY\n",
    ")\n",
    "\n",
    "# Test Phase\n",
    "TEST_PHASE_ADDITIONAL_POSITIVE_IMAGES_QUANTITY = STUDY_PHASE_POSITIVE_IMAGES_QUANTITY\n",
    "TEST_PHASE_ADDITIONAL_NEGATIVE_IMAGES_QUANTITY = STUDY_PHASE_NEGATIVE_IMAGES_QUANTITY\n",
    "TEST_PHASE_ADDITIONAL_NEUTRAL_IMAGES_QUANTITY = STUDY_PHASE_NEUTRAL_IMAGES_QUANTITY\n",
    "TEST_PHASE_ADDITIONAL_BUFFER_IMAGES_QUANTITY = 0\n",
    "\n",
    "TEST_PHASE_POSITIVE_IMAGES_QUANTITY = (\n",
    "    STUDY_PHASE_POSITIVE_IMAGES_QUANTITY\n",
    "    + TEST_PHASE_ADDITIONAL_POSITIVE_IMAGES_QUANTITY\n",
    ")\n",
    "\n",
    "TEST_PHASE_NEGATIVE_IMAGES_QUANTITY = (\n",
    "    STUDY_PHASE_NEGATIVE_IMAGES_QUANTITY\n",
    "    + TEST_PHASE_ADDITIONAL_NEGATIVE_IMAGES_QUANTITY\n",
    ")\n",
    "\n",
    "TEST_PHASE_NEUTRAL_IMAGES_QUANTITY = (\n",
    "    STUDY_PHASE_NEUTRAL_IMAGES_QUANTITY\n",
    "    + TEST_PHASE_ADDITIONAL_NEUTRAL_IMAGES_QUANTITY\n",
    ")\n",
    "\n",
    "TEST_PHASE_BUFFER_IMAGES_QUANTITY = 0\n",
    "\n",
    "TEST_PHASE_IMAGES_QUANTITY = (\n",
    "    TEST_PHASE_POSITIVE_IMAGES_QUANTITY\n",
    "    + TEST_PHASE_NEGATIVE_IMAGES_QUANTITY\n",
    "    + TEST_PHASE_NEUTRAL_IMAGES_QUANTITY\n",
    "    + TEST_PHASE_BUFFER_IMAGES_QUANTITY\n",
    ")\n",
    "\n",
    "print(\"STUDY_PHASE_IMAGES_QUANTITY ...:\", STUDY_PHASE_IMAGES_QUANTITY)\n",
    "print(\"TEST_PHASE_IMAGES_QUANTITY  ...:\", TEST_PHASE_IMAGES_QUANTITY)"
   ]
  },
  {
   "cell_type": "markdown",
   "metadata": {},
   "source": [
    "## Files list and Number of files per image category"
   ]
  },
  {
   "cell_type": "code",
   "execution_count": 4,
   "metadata": {},
   "outputs": [],
   "source": [
    "software_config_dict = getYAML(SOFTWARE_CONFIG_FILENAME)\n",
    "\n",
    "cross_image_path = software_config_dict[\"cross_image_path\"]\n",
    "catch_images_path = software_config_dict[\"catch_images_path\"]\n",
    "\n",
    "buffer_stimuli_images_path = software_config_dict[\"buffer_stimuli_images_path\"]\n",
    "GAPED_positive_images_path = software_config_dict[\"GAPED_positive_images_path\"]\n",
    "\n",
    "GAPED_neutral_images_path = software_config_dict[\"GAPED_neutral_images_path\"]\n",
    "GAPED_snakes_images_path = software_config_dict[\"GAPED_snakes_images_path\"]\n",
    "GAPED_spiders_images_path = software_config_dict[\"GAPED_spiders_images_path\"]\n",
    "GAPED_human_concerns_images_path = software_config_dict[\"GAPED_human_concerns_images_path\"]\n",
    "GAPED_animal_concerns_images_path = software_config_dict[\"GAPED_animal_concerns_images_path\"]"
   ]
  },
  {
   "cell_type": "code",
   "execution_count": 5,
   "metadata": {},
   "outputs": [
    {
     "name": "stdout",
     "output_type": "stream",
     "text": [
      "Warning: buffer path = GAPED_neutral_images_path\n"
     ]
    }
   ],
   "source": [
    "if buffer_stimuli_images_path == GAPED_neutral_images_path:\n",
    "    print(\"Warning: buffer path = GAPED_neutral_images_path\")"
   ]
  },
  {
   "cell_type": "code",
   "execution_count": 6,
   "metadata": {},
   "outputs": [],
   "source": [
    "images_dict = {\n",
    "    \"cross\": {\"path\": cross_image_path},\n",
    "    \"catch\": {\"path\": catch_images_path},\n",
    "    \"buffer\": {\"path\": buffer_stimuli_images_path},\n",
    "    \"positive\": {\"path\": GAPED_positive_images_path},\n",
    "    \"neutral\": {\"path\": GAPED_neutral_images_path},\n",
    "    \"negative_snakes\": {\"path\": GAPED_snakes_images_path},\n",
    "    \"negative_spiders\": {\"path\": GAPED_spiders_images_path},\n",
    "    \"negative_human_concerns\": {\"path\": GAPED_human_concerns_images_path},\n",
    "    \"negative_animal_concerns\": {\"path\": GAPED_animal_concerns_images_path}\n",
    "}"
   ]
  },
  {
   "cell_type": "code",
   "execution_count": 7,
   "metadata": {},
   "outputs": [],
   "source": [
    "for image_class in images_dict.keys():\n",
    "    image_list, image_count = get_file_names(images_dict[image_class][\"path\"])\n",
    "    images_dict[image_class][\"image_count\"] = image_count\n",
    "    images_dict[image_class][\"image_list\"] = image_list\n",
    "    \n",
    "images_dict[\"negative_all\"] = {\n",
    "    \"path\": None,\n",
    "    \"image_count\":(\n",
    "        images_dict[\"negative_snakes\"][\"image_count\"]\n",
    "        + images_dict[\"negative_spiders\"][\"image_count\"]\n",
    "        + images_dict[\"negative_human_concerns\"][\"image_count\"]\n",
    "        + images_dict[\"negative_animal_concerns\"][\"image_count\"]\n",
    "    ),\n",
    "    \"image_list\": (\n",
    "        images_dict[\"negative_snakes\"][\"image_list\"]\n",
    "        + images_dict[\"negative_spiders\"][\"image_list\"]\n",
    "        + images_dict[\"negative_human_concerns\"][\"image_list\"]\n",
    "        + images_dict[\"negative_animal_concerns\"][\"image_list\"]\n",
    "    )\n",
    "}"
   ]
  },
  {
   "cell_type": "code",
   "execution_count": 8,
   "metadata": {},
   "outputs": [
    {
     "data": {
      "text/plain": [
       "[1, 5, 89, 121, 89, 133, 158, 105, 124, 520]"
      ]
     },
     "execution_count": 8,
     "metadata": {},
     "output_type": "execute_result"
    }
   ],
   "source": [
    "[images_dict[key][\"image_count\"] for key in images_dict.keys()]"
   ]
  },
  {
   "cell_type": "markdown",
   "metadata": {},
   "source": [
    "# Check image count limits"
   ]
  },
  {
   "cell_type": "code",
   "execution_count": 9,
   "metadata": {},
   "outputs": [],
   "source": [
    "positive_total = images_dict[\"positive\"][\"image_count\"]\n",
    "neutral_total = images_dict[\"neutral\"][\"image_count\"]\n",
    "\n",
    "animal_concern_total = images_dict[\"negative_animal_concerns\"][\"image_count\"]\n",
    "human_concern_total = images_dict[\"negative_human_concerns\"][\"image_count\"]\n",
    "snake_total = images_dict[\"negative_snakes\"][\"image_count\"]\n",
    "spider_total = images_dict[\"negative_spiders\"][\"image_count\"]\n",
    "\n",
    "negative_total = (\n",
    "    animal_concern_total\n",
    "    + human_concern_total\n",
    "    + snake_total\n",
    "    + spider_total\n",
    ")"
   ]
  },
  {
   "cell_type": "code",
   "execution_count": 10,
   "metadata": {},
   "outputs": [],
   "source": [
    "positive_images_count_needed = (\n",
    "    STUDY_PHASE_POSITIVE_IMAGES_QUANTITY \n",
    "    + TEST_PHASE_ADDITIONAL_POSITIVE_IMAGES_QUANTITY\n",
    ")\n",
    "\n",
    "if positive_images_count_needed > positive_total:\n",
    "    print(\"Error: no enough positive images.\")\n",
    "\n",
    "negative_images_count_needed = (\n",
    "    STUDY_PHASE_NEGATIVE_IMAGES_QUANTITY \n",
    "    + TEST_PHASE_ADDITIONAL_NEGATIVE_IMAGES_QUANTITY\n",
    ")\n",
    "\n",
    "if negative_images_count_needed > negative_total:\n",
    "    print(\"Error: no enough negative images.\")"
   ]
  },
  {
   "cell_type": "markdown",
   "metadata": {},
   "source": [
    "### Neutral images available for Neutral and Buffer"
   ]
  },
  {
   "cell_type": "code",
   "execution_count": 11,
   "metadata": {},
   "outputs": [
    {
     "name": "stdout",
     "output_type": "stream",
     "text": [
      "\n",
      "    ===========================================================\n",
      "    Number of neutral images needed\n",
      "    ===========================================================\n",
      "    STUDY_PHASE_NEUTRAL_IMAGES_QUANTITY ...............: 40\n",
      "    STUDY_PHASE_BUFFER_IMAGES_QUANTITY ................: 8\n",
      "    TEST_PHASE_ADDITIONAL_NEUTRAL_IMAGES_QUANTITY .....: 40\n",
      "    TEST_PHASE_ADDITIONAL_BUFFER_IMAGES_QUANTITY ......: 0\n",
      "    -----------------------------------------------------------\n",
      "    neutral_images_count_needed .......................: 88\n",
      "    \n",
      "    \n",
      "    ===========================================================\n",
      "    Number of neutral images available\n",
      "    ===========================================================\n",
      "    neutral_images_count_available ....................: 89\n",
      "    \n",
      "    ===========================================================\n",
      "    Difference\n",
      "    ===========================================================\n",
      "    Difference ........................................: 1\n",
      "    \n"
     ]
    }
   ],
   "source": [
    "neutral_images_count_needed = (\n",
    "    STUDY_PHASE_NEUTRAL_IMAGES_QUANTITY\n",
    "    + STUDY_PHASE_BUFFER_IMAGES_QUANTITY\n",
    "    + TEST_PHASE_ADDITIONAL_NEUTRAL_IMAGES_QUANTITY\n",
    "    + TEST_PHASE_ADDITIONAL_BUFFER_IMAGES_QUANTITY\n",
    ")\n",
    "\n",
    "if images_dict[\"neutral\"][\"path\"] == images_dict[\"buffer\"][\"path\"]:\n",
    "    neutral_images_count_available = images_dict[\"neutral\"][\"image_count\"]\n",
    "else:\n",
    "    neutral_images_count_available = (\n",
    "        images_dict[\"neutral\"][\"image_count\"]\n",
    "        + images_dict[\"buffer\"][\"image_count\"]\n",
    "    )\n",
    "    \n",
    "if neutral_images_count_needed > neutral_images_count_available:\n",
    "    print(\"\"\"\n",
    "    =====================================================\n",
    "        Error!! There is no enough neutral images \n",
    "        for neutral and buffer.\n",
    "    =====================================================\n",
    "    \"\"\"\n",
    "    )\n",
    "    \n",
    "print(\"\"\"\n",
    "    ===========================================================\n",
    "    Number of neutral images needed\n",
    "    ===========================================================\n",
    "    STUDY_PHASE_NEUTRAL_IMAGES_QUANTITY ...............: {}\n",
    "    STUDY_PHASE_BUFFER_IMAGES_QUANTITY ................: {}\n",
    "    TEST_PHASE_ADDITIONAL_NEUTRAL_IMAGES_QUANTITY .....: {}\n",
    "    TEST_PHASE_ADDITIONAL_BUFFER_IMAGES_QUANTITY ......: {}\n",
    "    -----------------------------------------------------------\n",
    "    neutral_images_count_needed .......................: {}\n",
    "    \n",
    "    \n",
    "    ===========================================================\n",
    "    Number of neutral images available\n",
    "    ===========================================================\n",
    "    neutral_images_count_available ....................: {}\n",
    "    \n",
    "    ===========================================================\n",
    "    Difference\n",
    "    ===========================================================\n",
    "    Difference ........................................: {}\n",
    "    \"\"\".format(\n",
    "        STUDY_PHASE_NEUTRAL_IMAGES_QUANTITY,\n",
    "        STUDY_PHASE_BUFFER_IMAGES_QUANTITY,\n",
    "        TEST_PHASE_ADDITIONAL_NEUTRAL_IMAGES_QUANTITY,\n",
    "        TEST_PHASE_ADDITIONAL_BUFFER_IMAGES_QUANTITY,\n",
    "        neutral_images_count_needed,\n",
    "        neutral_images_count_available,\n",
    "        (\n",
    "            neutral_images_count_available\n",
    "            - neutral_images_count_needed\n",
    "        )\n",
    "    \n",
    "    )\n",
    ")"
   ]
  },
  {
   "cell_type": "code",
   "execution_count": 12,
   "metadata": {},
   "outputs": [],
   "source": [
    "if neutral_images_count_needed > neutral_images_count_available:\n",
    "    neutral_count = getMaxEven(neutral_images_count_available)\n",
    "    print(\"Maximum even number for available neutral images: \", neutral_count)\n",
    "\n",
    "    print(\"+==========+===================+===============+==============+================+\")\n",
    "    print(\"| n_buffer | neutral_available | neutral_study | neutral_test | divisible by 4 |\")\n",
    "    print(\"+==========+===================+===============+==============+================+\")\n",
    "    for n_buffer in range(2, neutral_count+2, 2):\n",
    "        neutral_available = neutral_count - n_buffer\n",
    "        neutral_study = int(neutral_available / 2)\n",
    "        neutral_test = neutral_study\n",
    "        if neutral_study % 4 == 0:\n",
    "            divisible4_str = \"*\"\n",
    "        else:\n",
    "            divisible4_str = \" \"\n",
    "        row = \"|  {:4d}    |       {:4d}        |     {:4d}      |    {:4d}      |       {}        |\"\n",
    "        print(\n",
    "            row.format(\n",
    "                n_buffer,\n",
    "                neutral_available,\n",
    "                neutral_study,\n",
    "                neutral_test,\n",
    "                divisible4_str\n",
    "            )\n",
    "        )\n",
    "    print(\"+==========+===================+===============+==============+================+\")\n",
    "    "
   ]
  },
  {
   "cell_type": "markdown",
   "metadata": {},
   "source": [
    "## Execution"
   ]
  },
  {
   "cell_type": "code",
   "execution_count": 13,
   "metadata": {},
   "outputs": [],
   "source": [
    "# Image types"
   ]
  },
  {
   "cell_type": "code",
   "execution_count": 14,
   "metadata": {},
   "outputs": [
    {
     "data": {
      "text/plain": [
       "dict_keys(['positive', 'neutral', 'buffer_stimuli', 'negative_snakes', 'negative_spiders', 'negative_human_concerns', 'negative_animal_concerns', 'negative_all', 'catch_stimuli'])"
      ]
     },
     "execution_count": 14,
     "metadata": {},
     "output_type": "execute_result"
    }
   ],
   "source": [
    "files_ = Files()\n",
    "files_.dictImageTypesFileList.keys()"
   ]
  },
  {
   "cell_type": "code",
   "execution_count": 15,
   "metadata": {},
   "outputs": [],
   "source": [
    "positive_list_all = files_.getRandomImageNames(\n",
    "    imageType='positive', \n",
    "    n=STUDY_PHASE_POSITIVE_IMAGES_QUANTITY*2\n",
    ")\n",
    "\n",
    "positive_list = positive_list_all[:STUDY_PHASE_POSITIVE_IMAGES_QUANTITY]\n",
    "positive_list_additional = positive_list_all[STUDY_PHASE_POSITIVE_IMAGES_QUANTITY:]"
   ]
  },
  {
   "cell_type": "code",
   "execution_count": 16,
   "metadata": {},
   "outputs": [],
   "source": [
    "neutral_images_needed_count = (\n",
    "    STUDY_PHASE_NEUTRAL_IMAGES_QUANTITY\n",
    "    + STUDY_PHASE_BUFFER_IMAGES_QUANTITY\n",
    "    + TEST_PHASE_ADDITIONAL_NEUTRAL_IMAGES_QUANTITY\n",
    ")\n",
    "\n",
    "neutral_list_all = files_.getRandomImageNames(\n",
    "    imageType='neutral', \n",
    "    n=neutral_images_needed_count\n",
    ")\n",
    "\n",
    "#----------------------------------------\n",
    "\n",
    "buffer_list = neutral_list_all[\n",
    "    :STUDY_PHASE_BUFFER_IMAGES_QUANTITY\n",
    "]\n",
    "\n",
    "neutral_list = neutral_list_all[\n",
    "    STUDY_PHASE_BUFFER_IMAGES_QUANTITY\n",
    "    :STUDY_PHASE_NEUTRAL_IMAGES_QUANTITY+STUDY_PHASE_BUFFER_IMAGES_QUANTITY\n",
    "]\n",
    "\n",
    "neutral_list_additional = neutral_list_all[\n",
    "    STUDY_PHASE_NEUTRAL_IMAGES_QUANTITY+STUDY_PHASE_BUFFER_IMAGES_QUANTITY\n",
    "    :\n",
    "]"
   ]
  },
  {
   "cell_type": "code",
   "execution_count": 17,
   "metadata": {},
   "outputs": [],
   "source": [
    "if STUDY_PHASE_NEGATIVE_IMAGES_QUANTITY % 4 == 0:\n",
    "    snake_images_quantity = int(STUDY_PHASE_NEGATIVE_IMAGES_QUANTITY / 4)\n",
    "    spider_images_quantity = int(STUDY_PHASE_NEGATIVE_IMAGES_QUANTITY / 4)\n",
    "    human_concerns_images_quantity = int(STUDY_PHASE_NEGATIVE_IMAGES_QUANTITY / 4)\n",
    "    animal_concerns_images_quantity = int(STUDY_PHASE_NEGATIVE_IMAGES_QUANTITY / 4)\n",
    "else:\n",
    "    print(\"Error!!! TEST_PHASE_NEGATIVE_IMAGES_QUANTITY is not divisible by 4\")"
   ]
  },
  {
   "cell_type": "code",
   "execution_count": 18,
   "metadata": {},
   "outputs": [],
   "source": [
    "negative_human_all = files_.getRandomImageNames('negative_human_concerns', n = human_concerns_images_quantity * 2)\n",
    "negative_human = negative_human_all[:human_concerns_images_quantity]\n",
    "negative_human_additional = negative_human_all[human_concerns_images_quantity:]"
   ]
  },
  {
   "cell_type": "code",
   "execution_count": 19,
   "metadata": {},
   "outputs": [],
   "source": [
    "negative_animal_all = files_.getRandomImageNames('negative_animal_concerns', n = animal_concerns_images_quantity * 2)\n",
    "negative_animal = negative_animal_all[:animal_concerns_images_quantity]\n",
    "negative_animal_additional = negative_animal_all[animal_concerns_images_quantity:]"
   ]
  },
  {
   "cell_type": "code",
   "execution_count": 20,
   "metadata": {},
   "outputs": [],
   "source": [
    "negative_spider_all = files_.getRandomImageNames('negative_spiders', n = spider_images_quantity * 2)\n",
    "negative_spider = negative_spider_all[:spider_images_quantity]\n",
    "negative_spider_additional = negative_spider_all[spider_images_quantity:]"
   ]
  },
  {
   "cell_type": "code",
   "execution_count": 21,
   "metadata": {},
   "outputs": [],
   "source": [
    "negative_snake_all = files_.getRandomImageNames('negative_snakes', n = snake_images_quantity * 2)\n",
    "negative_snake = negative_snake_all[:snake_images_quantity]\n",
    "negative_snake_additional = negative_snake_all[snake_images_quantity:]"
   ]
  },
  {
   "cell_type": "code",
   "execution_count": 22,
   "metadata": {},
   "outputs": [
    {
     "data": {
      "text/plain": [
       "dict_keys(['positive', 'neutral', 'buffer_stimuli', 'negative_snakes', 'negative_spiders', 'negative_human_concerns', 'negative_animal_concerns', 'negative_all', 'catch_stimuli'])"
      ]
     },
     "execution_count": 22,
     "metadata": {},
     "output_type": "execute_result"
    }
   ],
   "source": [
    "files_.dictImageTypesFileList.keys()"
   ]
  },
  {
   "cell_type": "code",
   "execution_count": 23,
   "metadata": {},
   "outputs": [
    {
     "data": {
      "text/plain": [
       "['bird_caricature.jpeg',\n",
       " 'camel_caricature.jpeg',\n",
       " 'smiling_shark.jpeg',\n",
       " 'squirrel_holding_a_gun.jpeg',\n",
       " 'tiger_caricature.jpeg']"
      ]
     },
     "execution_count": 23,
     "metadata": {},
     "output_type": "execute_result"
    }
   ],
   "source": [
    "files_.dictCatchImages[\"catch_stimuli\"]"
   ]
  },
  {
   "cell_type": "markdown",
   "metadata": {},
   "source": [
    "## Dict before yaml file"
   ]
  },
  {
   "cell_type": "code",
   "execution_count": 24,
   "metadata": {},
   "outputs": [],
   "source": [
    "yaml_dict = {\n",
    "    \"user_id\": user_id,\n",
    "    \"user_random_seed\": user_random_seed,\n",
    "    \"cross_image_path\": cross_image_path,\n",
    "    \"cross_image_name\": cross_image_name,\n",
    "    \"catch_images_path\": catch_images_path,\n",
    "    \"buffer_stimuli_images_path\": buffer_stimuli_images_path,\n",
    "    \"GAPED_positive_images_path\": GAPED_positive_images_path,\n",
    "    \"GAPED_neutral_images_path\": GAPED_neutral_images_path,\n",
    "    \"GAPED_snakes_images_path\": GAPED_snakes_images_path,\n",
    "    \"GAPED_spiders_images_path\": GAPED_spiders_images_path,\n",
    "    \"GAPED_human_concerns_images_path\": GAPED_human_concerns_images_path,\n",
    "    \"GAPED_animal_concerns_images_path\": GAPED_animal_concerns_images_path,\n",
    "    \"selected_positive_images\": positive_list,\n",
    "    \"additional_positive_images\": positive_list_additional,\n",
    "    \"selected_neutral_images\": neutral_list,\n",
    "    \"additional_neutral_images\": neutral_list_additional,\n",
    "    \"selected_buffer_stimuli_images\": buffer_list,\n",
    "    \"selected_snake_images\": negative_snake,\n",
    "    \"additional_snake_images\": negative_snake_additional,\n",
    "    \"selected_spider_images\": negative_spider,\n",
    "    \"additional_spider_images\": negative_spider_additional,\n",
    "    \"selected_human_concerns_images\": negative_human,\n",
    "    \"additional_human_concerns_images\": negative_human_additional,\n",
    "    \"selected_animal_concerns_images\": negative_animal,\n",
    "    \"additional_animal_concerns_images\": negative_animal_additional,\n",
    "    \"catch_stimuli_images_path\": catch_images_path,\n",
    "    \"catch_stimuli_images_list\": files_.dictCatchImages[\"catch_stimuli\"]\n",
    "    \n",
    "}\n",
    "\n",
    "f = open(USER_CONFIG_FILE_NAME, 'w+')\n",
    "yaml.dump(yaml_dict, f, allow_unicode=False)\n",
    "f.close()"
   ]
  },
  {
   "cell_type": "code",
   "execution_count": null,
   "metadata": {},
   "outputs": [],
   "source": []
  }
 ],
 "metadata": {
  "kernelspec": {
   "display_name": "Python 3",
   "language": "python",
   "name": "python3"
  },
  "language_info": {
   "codemirror_mode": {
    "name": "ipython",
    "version": 3
   },
   "file_extension": ".py",
   "mimetype": "text/x-python",
   "name": "python",
   "nbconvert_exporter": "python",
   "pygments_lexer": "ipython3",
   "version": "3.8.5"
  }
 },
 "nbformat": 4,
 "nbformat_minor": 4
}
