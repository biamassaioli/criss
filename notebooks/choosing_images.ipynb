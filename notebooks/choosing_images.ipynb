{
 "cells": [
  {
   "cell_type": "markdown",
   "metadata": {},
   "source": [
    "# Choosing images"
   ]
  },
  {
   "cell_type": "code",
   "execution_count": 1,
   "metadata": {},
   "outputs": [],
   "source": [
    "import sys\n",
    "CODE_DIR = \"../\"\n",
    "sys.path.insert(1, CODE_DIR)\n",
    "\n",
    "from files import Files\n",
    "files_ = Files()"
   ]
  },
  {
   "cell_type": "markdown",
   "metadata": {},
   "source": [
    "## Input parameters"
   ]
  },
  {
   "cell_type": "code",
   "execution_count": 2,
   "metadata": {},
   "outputs": [],
   "source": [
    "positive_images_quantity = 40\n",
    "negative_images_quantity = positive_images_quantity\n",
    "neutral_images_quantity  = positive_images_quantity\n",
    "buffer_images_quantity = 24\n",
    "# must be an even number.\n",
    "\n",
    "catch_image_names = ['bird_caricature.jpeg', \n",
    "                     'camel_caricature.jpeg',\n",
    "                     'smiling_shark.jpeg',\n",
    "                     'squirrel_holding_a_gun.jpeg',\n",
    "                     'tiger_caricature.jpeg']"
   ]
  },
  {
   "cell_type": "markdown",
   "metadata": {},
   "source": [
    "# Check image count limits"
   ]
  },
  {
   "cell_type": "code",
   "execution_count": 3,
   "metadata": {},
   "outputs": [],
   "source": [
    "animal_concern_total = 124\n",
    "human_concern_total = 105\n",
    "neutral_total = 89\n",
    "positive_total = 121\n",
    "snake_total = 133\n",
    "spider_total = 158"
   ]
  },
  {
   "cell_type": "code",
   "execution_count": 4,
   "metadata": {},
   "outputs": [
    {
     "data": {
      "text/plain": [
       "520"
      ]
     },
     "execution_count": 4,
     "metadata": {},
     "output_type": "execute_result"
    }
   ],
   "source": [
    "animal_concern_total + human_concern_total + snake_total + spider_total"
   ]
  },
  {
   "cell_type": "code",
   "execution_count": 5,
   "metadata": {},
   "outputs": [
    {
     "name": "stdout",
     "output_type": "stream",
     "text": [
      "104\n"
     ]
    },
    {
     "data": {
      "text/plain": [
       "True"
      ]
     },
     "execution_count": 5,
     "metadata": {},
     "output_type": "execute_result"
    }
   ],
   "source": [
    "print(neutral_images_quantity*2 + buffer_images_quantity)\n",
    "neutral_images_quantity*2 + buffer_images_quantity > 89"
   ]
  },
  {
   "cell_type": "code",
   "execution_count": 6,
   "metadata": {},
   "outputs": [
    {
     "data": {
      "text/plain": [
       "104"
      ]
     },
     "execution_count": 6,
     "metadata": {},
     "output_type": "execute_result"
    }
   ],
   "source": [
    "neutral_images_quantity*2 + buffer_images_quantity"
   ]
  },
  {
   "cell_type": "markdown",
   "metadata": {},
   "source": [
    "## Execution"
   ]
  },
  {
   "cell_type": "code",
   "execution_count": 7,
   "metadata": {},
   "outputs": [],
   "source": [
    "# Image types"
   ]
  },
  {
   "cell_type": "code",
   "execution_count": 8,
   "metadata": {},
   "outputs": [
    {
     "data": {
      "text/plain": [
       "dict_keys(['positive', 'neutral', 'buffer_stimuli', 'negative_snakes', 'negative_spiders', 'negative_human_concerns', 'negative_animal_concerns', 'negative_all', 'catch_stimuli'])"
      ]
     },
     "execution_count": 8,
     "metadata": {},
     "output_type": "execute_result"
    }
   ],
   "source": [
    "files_.dictImageTypesFileList.keys()"
   ]
  },
  {
   "cell_type": "code",
   "execution_count": 9,
   "metadata": {},
   "outputs": [],
   "source": [
    "snake_images_quantity = int(negative_images_quantity / 4)\n",
    "spider_images_quantity = int(negative_images_quantity / 4)\n",
    "human_concerns_images_quantity = int(negative_images_quantity / 4)\n",
    "animal_concerns_images_quantity = int(negative_images_quantity / 4)"
   ]
  },
  {
   "cell_type": "code",
   "execution_count": 10,
   "metadata": {},
   "outputs": [],
   "source": [
    "positive_list_all = files_.getRandomImageNames('positive', n = positive_images_quantity*2)\n",
    "positive_list = positive_list_all[:positive_images_quantity]\n",
    "positive_list_additional = positive_list_all[positive_images_quantity:]"
   ]
  },
  {
   "cell_type": "code",
   "execution_count": 11,
   "metadata": {},
   "outputs": [],
   "source": [
    "#----------------------------------------\n",
    "# For small number of neutral images\n",
    "#----------------------------------------\n",
    "# neutral_list_all = files_.getRandomImageNames('neutral', n = neutral_images_quantity*2 + buffer_images_quantity)\n",
    "\n",
    "#----------------------------------------\n",
    "# For big number of neutral images\n",
    "#----------------------------------------\n",
    "neutral_list_all = files_.neutralImagesFileList[:neutral_images_quantity*2 + buffer_images_quantity]\n",
    "\n",
    "#----------------------------------------\n",
    "buffer_list = neutral_list_all[:buffer_images_quantity]\n",
    "neutral_list = neutral_list_all[buffer_images_quantity:neutral_images_quantity+buffer_images_quantity]\n",
    "neutral_list_additional = neutral_list_all[neutral_images_quantity+buffer_images_quantity:]"
   ]
  },
  {
   "cell_type": "code",
   "execution_count": 12,
   "metadata": {},
   "outputs": [],
   "source": [
    "negative_human_all = files_.getRandomImageNames('negative_human_concerns', n = human_concerns_images_quantity * 2)\n",
    "negative_human = negative_human_all[:human_concerns_images_quantity]\n",
    "negative_human_additional = negative_human_all[human_concerns_images_quantity:]"
   ]
  },
  {
   "cell_type": "code",
   "execution_count": 13,
   "metadata": {},
   "outputs": [],
   "source": [
    "negative_animal_all = files_.getRandomImageNames('negative_animal_concerns', n = animal_concerns_images_quantity * 2)\n",
    "negative_animal = negative_animal_all[:animal_concerns_images_quantity]\n",
    "negative_animal_additional = negative_animal_all[animal_concerns_images_quantity:]"
   ]
  },
  {
   "cell_type": "code",
   "execution_count": 14,
   "metadata": {},
   "outputs": [],
   "source": [
    "negative_spider_all = files_.getRandomImageNames('negative_spiders', n = spider_images_quantity * 2)\n",
    "negative_spider = negative_spider_all[:spider_images_quantity]\n",
    "negative_spider_additional = negative_spider_all[spider_images_quantity:]"
   ]
  },
  {
   "cell_type": "code",
   "execution_count": 15,
   "metadata": {},
   "outputs": [],
   "source": [
    "negative_snake_all = files_.getRandomImageNames('negative_snakes', n = snake_images_quantity * 2)\n",
    "negative_snake = negative_snake_all[:snake_images_quantity]\n",
    "negative_snake_additional = negative_snake_all[snake_images_quantity:]"
   ]
  },
  {
   "cell_type": "markdown",
   "metadata": {},
   "source": [
    "## Sanity test"
   ]
  },
  {
   "cell_type": "code",
   "execution_count": 16,
   "metadata": {},
   "outputs": [
    {
     "name": "stdout",
     "output_type": "stream",
     "text": [
      "00 Sn001.bmp Sn068.bmp\n",
      "01 Sn002.bmp Sn074.bmp\n",
      "02 Sn008.bmp Sn079.bmp\n",
      "03 Sn010.bmp Sn087.bmp\n",
      "04 Sn012.bmp Sn089.bmp\n",
      "05 Sn029.bmp Sn099.bmp\n",
      "06 Sn039.bmp Sn103.bmp\n",
      "07 Sn040.bmp Sn115.bmp\n",
      "08 Sn048.bmp Sn122.bmp\n",
      "09 Sn064.bmp Sn126.bmp\n"
     ]
    }
   ],
   "source": [
    "for i, (nome, nome2) in enumerate(zip(negative_snake,negative_snake_additional)):\n",
    "    print(\"{:02d}\".format(i), nome, nome2)"
   ]
  },
  {
   "cell_type": "markdown",
   "metadata": {},
   "source": [
    "## Information for the user configuration file\n",
    "\n",
    "### Selected images"
   ]
  },
  {
   "cell_type": "code",
   "execution_count": 17,
   "metadata": {},
   "outputs": [
    {
     "name": "stdout",
     "output_type": "stream",
     "text": [
      "selected_positive_images: ['P005.bmp', 'P006.bmp', 'P009.bmp', 'P012.bmp', 'P013.bmp', 'P020.bmp', 'P023.bmp', 'P024.bmp', 'P025.bmp', 'P026.bmp', 'P030.bmp', 'P031.bmp', 'P033.bmp', 'P034.bmp', 'P035.bmp', 'P036.bmp', 'P038.bmp', 'P039.bmp', 'P042.bmp', 'P043.bmp', 'P044.bmp', 'P045.bmp', 'P048.bmp', 'P049.bmp', 'P050.bmp', 'P052.bmp', 'P053.bmp', 'P055.bmp', 'P056.bmp', 'P058.bmp', 'P060.bmp', 'P061.bmp', 'P062.bmp', 'P063.bmp', 'P064.bmp', 'P065.bmp', 'P067.bmp', 'P069.bmp', 'P070.bmp', 'P071.bmp']\n",
      "\n",
      "selected_neutral_images: ['N028.bmp', 'N030.bmp', 'N031.bmp', 'N032.bmp', 'N033.bmp', 'N034.bmp', 'N035.bmp', 'N036.bmp', 'N037.bmp', 'N038.bmp', 'N039.bmp', 'N040.bmp', 'N041.bmp', 'N042.bmp', 'N043.bmp', 'N044.bmp', 'N045.bmp', 'N046.bmp', 'N047.bmp', 'N061.bmp', 'N062.bmp', 'N064.bmp', 'N065.bmp', 'N066.bmp', 'N067.bmp', 'N068.bmp', 'N069.bmp', 'N070.bmp', 'N071.bmp', 'N072.bmp', 'N073.bmp', 'N075.bmp', 'N076.bmp', 'N077.bmp', 'N078.bmp', 'N079.bmp', 'N080.bmp', 'N081.bmp', 'N082.bmp', 'N083.bmp']\n",
      "\n",
      "selected_buffer_stimuli_images: ['N001.bmp', 'N002.bmp', 'N003.bmp', 'N004.bmp', 'N006.bmp', 'N008.bmp', 'N009.bmp', 'N010.bmp', 'N011.bmp', 'N013.bmp', 'N014.bmp', 'N015.bmp', 'N016.bmp', 'N017.bmp', 'N018.bmp', 'N019.bmp', 'N020.bmp', 'N021.bmp', 'N022.bmp', 'N023.bmp', 'N024.bmp', 'N025.bmp', 'N026.bmp', 'N027.bmp']\n",
      "\n",
      "selected_snake_images: ['Sn001.bmp', 'Sn002.bmp', 'Sn008.bmp', 'Sn010.bmp', 'Sn012.bmp', 'Sn029.bmp', 'Sn039.bmp', 'Sn040.bmp', 'Sn048.bmp', 'Sn064.bmp']\n",
      "\n",
      "selected_spider_images: ['Sp006.bmp', 'Sp007.bmp', 'Sp009.bmp', 'Sp011.bmp', 'Sp015.bmp', 'Sp016.bmp', 'Sp018.bmp', 'Sp022.bmp', 'Sp030.bmp', 'Sp033.bmp']\n",
      "\n",
      "selected_human_concerns_images: ['H011.bmp', 'H028.bmp', 'H041.bmp', 'H045.bmp', 'H049.bmp', 'H055.bmp', 'H065.bmp', 'H074.bmp', 'H076.bmp', 'H077.bmp']\n",
      "\n",
      "selected_animal_concerns_images: ['A002.bmp', 'A008.bmp', 'A009.bmp', 'A016.bmp', 'A020.bmp', 'A027.bmp', 'A032.bmp', 'A037.bmp', 'A072.bmp', 'A079.bmp']\n"
     ]
    }
   ],
   "source": [
    "print('selected_positive_images: [', end='')\n",
    "for i, name in enumerate(positive_list):\n",
    "    print(\"'{}'\".format(name), end='')\n",
    "    if i != len(positive_list)-1:\n",
    "        print(', ', end='')\n",
    "print(']')\n",
    "\n",
    "print()\n",
    "print('selected_neutral_images: [', end='')\n",
    "for i, name in enumerate(neutral_list):\n",
    "    print(\"'{}'\".format(name), end='')\n",
    "    if i != len(neutral_list)-1:\n",
    "        print(', ', end='')\n",
    "print(']')\n",
    "\n",
    "print()\n",
    "print('selected_buffer_stimuli_images: [', end='')\n",
    "for i, name in enumerate(buffer_list):\n",
    "    print(\"'{}'\".format(name), end='')\n",
    "    if i != len(buffer_list)-1:\n",
    "        print(', ', end='')\n",
    "print(']')\n",
    "\n",
    "print()\n",
    "print('selected_snake_images: [', end='')\n",
    "for i, name in enumerate(negative_snake):\n",
    "    print(\"'{}'\".format(name), end='')\n",
    "    if i != len(negative_snake)-1:\n",
    "        print(', ', end='')\n",
    "print(']')\n",
    "\n",
    "\n",
    "print()\n",
    "print('selected_spider_images: [', end='')\n",
    "for i, name in enumerate(negative_spider):\n",
    "    print(\"'{}'\".format(name), end='')\n",
    "    if i != len(negative_spider)-1:\n",
    "        print(', ', end='')\n",
    "print(']')\n",
    "\n",
    "\n",
    "print()\n",
    "print('selected_human_concerns_images: [', end='')\n",
    "for i, name in enumerate(negative_human):\n",
    "    print(\"'{}'\".format(name), end='')\n",
    "    if i != len(negative_human)-1:\n",
    "        print(', ', end='')\n",
    "print(']')\n",
    "\n",
    "print()\n",
    "print('selected_animal_concerns_images: [', end='')\n",
    "for i, name in enumerate(negative_animal):\n",
    "    print(\"'{}'\".format(name), end='')\n",
    "    if i != len(negative_animal)-1:\n",
    "        print(', ', end='')\n",
    "print(']')\n"
   ]
  },
  {
   "cell_type": "markdown",
   "metadata": {},
   "source": [
    "### Aditional images"
   ]
  },
  {
   "cell_type": "code",
   "execution_count": 18,
   "metadata": {},
   "outputs": [
    {
     "name": "stdout",
     "output_type": "stream",
     "text": [
      "additional_positive_images: ['P072.bmp', 'P074.bmp', 'P076.bmp', 'P078.bmp', 'P079.bmp', 'P081.bmp', 'P082.bmp', 'P084.bmp', 'P085.bmp', 'P088.bmp', 'P090.bmp', 'P091.bmp', 'P092.bmp', 'P093.bmp', 'P094.bmp', 'P096.bmp', 'P098.bmp', 'P099.bmp', 'P101.bmp', 'P103.bmp', 'P104.bmp', 'P105.bmp', 'P108.bmp', 'P109.bmp', 'P110.bmp', 'P111.bmp', 'P113.bmp', 'P116.bmp', 'P117.bmp', 'P118.bmp', 'P119.bmp', 'P121.bmp', 'P122.bmp', 'P123.bmp', 'P124.bmp', 'P125.bmp', 'P127.bmp', 'P128.bmp', 'P129.bmp', 'P130.bmp']\n",
      "\n",
      "additional_neutral_images: ['N085.bmp', 'N086.bmp', 'N087.bmp', 'N088.bmp', 'N089.bmp', 'N090.bmp', 'N091.bmp', 'N092.bmp', 'N093.bmp', 'N094.bmp', 'N095.bmp', 'N096.bmp', 'N097.bmp', 'N098.bmp', 'N099.bmp', 'N100.bmp', 'N101.bmp', 'N102.bmp', 'N104.bmp', 'N105.bmp', 'N106.bmp', 'N107.bmp', 'N108.bmp', 'N109.bmp', 'N111.bmp']\n",
      "\n",
      "additional_snake_images: ['Sn068.bmp', 'Sn074.bmp', 'Sn079.bmp', 'Sn087.bmp', 'Sn089.bmp', 'Sn099.bmp', 'Sn103.bmp', 'Sn115.bmp', 'Sn122.bmp', 'Sn126.bmp']\n",
      "\n",
      "additional_spider_images: ['Sp041.bmp', 'Sp045.bmp', 'Sp054.bmp', 'Sp064.bmp', 'Sp065.bmp', 'Sp067.bmp', 'Sp070.bmp', 'Sp095.bmp', 'Sp098.bmp', 'Sp111.bmp']\n",
      "\n",
      "additional_human_concerns_images: ['H082.bmp', 'H086.bmp', 'H089.bmp', 'H090.bmp', 'H094.bmp', 'H099.bmp', 'H102.bmp', 'H105.bmp', 'H122.bmp', 'H124.bmp']\n",
      "\n",
      "additional_animal_concerns_images: ['A081.bmp', 'A089.bmp', 'A093.bmp', 'A099.bmp', 'A102.bmp', 'A103.bmp', 'A111.bmp', 'A119.bmp', 'A123.bmp', 'A124.bmp']\n"
     ]
    }
   ],
   "source": [
    "print('additional_positive_images: [', end='')\n",
    "for i, name in enumerate(positive_list_additional):\n",
    "    print(\"'{}'\".format(name), end='')\n",
    "    if i != len(positive_list_additional)-1:\n",
    "        print(', ', end='')\n",
    "print(']')\n",
    "\n",
    "print()\n",
    "print('additional_neutral_images: [', end='')\n",
    "for i, name in enumerate(neutral_list_additional):\n",
    "    print(\"'{}'\".format(name), end='')\n",
    "    if i != len(neutral_list_additional)-1:\n",
    "        print(', ', end='')\n",
    "print(']')\n",
    "\n",
    "print()\n",
    "print('additional_snake_images: [', end='')\n",
    "for i, name in enumerate(negative_snake_additional):\n",
    "    print(\"'{}'\".format(name), end='')\n",
    "    if i != len(negative_snake_additional)-1:\n",
    "        print(', ', end='')\n",
    "print(']')\n",
    "\n",
    "\n",
    "print()\n",
    "print('additional_spider_images: [', end='')\n",
    "for i, name in enumerate(negative_spider_additional):\n",
    "    print(\"'{}'\".format(name), end='')\n",
    "    if i != len(negative_spider_additional)-1:\n",
    "        print(', ', end='')\n",
    "print(']')\n",
    "\n",
    "\n",
    "print()\n",
    "print('additional_human_concerns_images: [', end='')\n",
    "for i, name in enumerate(negative_human_additional):\n",
    "    print(\"'{}'\".format(name), end='')\n",
    "    if i != len(negative_human_additional)-1:\n",
    "        print(', ', end='')\n",
    "print(']')\n",
    "\n",
    "print()\n",
    "print('additional_animal_concerns_images: [', end='')\n",
    "for i, name in enumerate(negative_animal_additional):\n",
    "    print(\"'{}'\".format(name), end='')\n",
    "    if i != len(negative_animal_additional)-1:\n",
    "        print(', ', end='')\n",
    "print(']')"
   ]
  },
  {
   "cell_type": "code",
   "execution_count": 19,
   "metadata": {},
   "outputs": [
    {
     "name": "stdout",
     "output_type": "stream",
     "text": [
      "\n",
      "catch_stimuli_images_list: ['bird_caricature.jpeg', 'camel_caricature.jpeg', 'smiling_shark.jpeg', 'squirrel_holding_a_gun.jpeg', 'tiger_caricature.jpeg']\n"
     ]
    }
   ],
   "source": [
    "print()\n",
    "print('catch_stimuli_images_list: [', end='')\n",
    "for i, name in enumerate(catch_image_names):\n",
    "    print(\"'{}'\".format(name), end='')\n",
    "    if i != len(catch_image_names)-1:\n",
    "        print(', ', end='')\n",
    "print(']')"
   ]
  },
  {
   "cell_type": "code",
   "execution_count": null,
   "metadata": {},
   "outputs": [],
   "source": []
  }
 ],
 "metadata": {
  "kernelspec": {
   "display_name": "Python 3",
   "language": "python",
   "name": "python3"
  },
  "language_info": {
   "codemirror_mode": {
    "name": "ipython",
    "version": 3
   },
   "file_extension": ".py",
   "mimetype": "text/x-python",
   "name": "python",
   "nbconvert_exporter": "python",
   "pygments_lexer": "ipython3",
   "version": "3.8.5"
  }
 },
 "nbformat": 4,
 "nbformat_minor": 4
}
